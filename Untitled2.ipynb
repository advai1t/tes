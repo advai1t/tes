{
 "cells": [
  {
   "cell_type": "code",
   "execution_count": 10,
   "metadata": {},
   "outputs": [],
   "source": [
    "import numpy as np\n",
    "import numpy.random"
   ]
  },
  {
   "cell_type": "code",
   "execution_count": 6,
   "metadata": {},
   "outputs": [
    {
     "data": {
      "text/plain": [
       "array(['Bob', 'Joe', 'Will', 'Bob', 'Will', 'Joe', 'Joe'], dtype='<U4')"
      ]
     },
     "execution_count": 6,
     "metadata": {},
     "output_type": "execute_result"
    }
   ],
   "source": [
    "names = np.array(['Bob', 'Joe', 'Will', 'Bob', 'Will', 'Joe', 'Joe'])\n",
    "names"
   ]
  },
  {
   "cell_type": "code",
   "execution_count": 12,
   "metadata": {},
   "outputs": [
    {
     "data": {
      "text/plain": [
       "array([[ 0.79103092,  1.04432331, -1.17803111, -0.59064124],\n",
       "       [ 0.83688121, -1.64693893,  1.33673953,  2.31021778],\n",
       "       [ 0.02825321, -0.64983411,  1.57232681, -1.36892165],\n",
       "       [ 2.69095526, -0.46539269, -0.86665437,  0.19243166],\n",
       "       [ 0.49854293, -0.00461427, -0.20044367, -0.07878541],\n",
       "       [-0.02121822, -0.88334319, -1.74124007,  0.59995769],\n",
       "       [-1.26678342, -0.73466208,  2.14070144, -0.36965268]])"
      ]
     },
     "execution_count": 12,
     "metadata": {},
     "output_type": "execute_result"
    }
   ],
   "source": [
    "data = np.random.randn(7,4)\n",
    "data"
   ]
  },
  {
   "cell_type": "code",
   "execution_count": 13,
   "metadata": {},
   "outputs": [
    {
     "data": {
      "text/plain": [
       "array([ True, False, False,  True, False, False, False])"
      ]
     },
     "execution_count": 13,
     "metadata": {},
     "output_type": "execute_result"
    }
   ],
   "source": [
    "names == 'Bob'"
   ]
  },
  {
   "cell_type": "markdown",
   "metadata": {},
   "source": [
    "names == 'Joe'"
   ]
  },
  {
   "cell_type": "code",
   "execution_count": 14,
   "metadata": {},
   "outputs": [
    {
     "data": {
      "text/plain": [
       "array([False,  True, False, False, False,  True,  True])"
      ]
     },
     "execution_count": 14,
     "metadata": {},
     "output_type": "execute_result"
    }
   ],
   "source": [
    "names == 'Joe'"
   ]
  },
  {
   "cell_type": "code",
   "execution_count": 15,
   "metadata": {},
   "outputs": [
    {
     "data": {
      "text/plain": [
       "array([[ 0.79103092,  1.04432331, -1.17803111, -0.59064124],\n",
       "       [ 2.69095526, -0.46539269, -0.86665437,  0.19243166]])"
      ]
     },
     "execution_count": 15,
     "metadata": {},
     "output_type": "execute_result"
    }
   ],
   "source": [
    "data[names == 'Bob']"
   ]
  },
  {
   "cell_type": "code",
   "execution_count": 16,
   "metadata": {},
   "outputs": [
    {
     "data": {
      "text/plain": [
       "array([False,  True,  True, False,  True,  True,  True])"
      ]
     },
     "execution_count": 16,
     "metadata": {},
     "output_type": "execute_result"
    }
   ],
   "source": [
    "names != 'Bob'"
   ]
  },
  {
   "cell_type": "code",
   "execution_count": 17,
   "metadata": {},
   "outputs": [
    {
     "data": {
      "text/plain": [
       "array([[ 0.83688121, -1.64693893,  1.33673953,  2.31021778],\n",
       "       [ 0.02825321, -0.64983411,  1.57232681, -1.36892165],\n",
       "       [ 0.49854293, -0.00461427, -0.20044367, -0.07878541],\n",
       "       [-0.02121822, -0.88334319, -1.74124007,  0.59995769],\n",
       "       [-1.26678342, -0.73466208,  2.14070144, -0.36965268]])"
      ]
     },
     "execution_count": 17,
     "metadata": {},
     "output_type": "execute_result"
    }
   ],
   "source": [
    "data[names != 'Bob']"
   ]
  },
  {
   "cell_type": "code",
   "execution_count": 20,
   "metadata": {},
   "outputs": [
    {
     "data": {
      "text/plain": [
       "array([ True,  True, False,  True, False,  True,  True])"
      ]
     },
     "execution_count": 20,
     "metadata": {},
     "output_type": "execute_result"
    }
   ],
   "source": [
    "\n",
    "mask = (names == 'Bob') | (names == 'Joe')\n",
    "mask"
   ]
  },
  {
   "cell_type": "code",
   "execution_count": 21,
   "metadata": {},
   "outputs": [
    {
     "data": {
      "text/plain": [
       "array([[ 0.79103092,  1.04432331, -1.17803111, -0.59064124],\n",
       "       [ 0.83688121, -1.64693893,  1.33673953,  2.31021778],\n",
       "       [ 2.69095526, -0.46539269, -0.86665437,  0.19243166],\n",
       "       [-0.02121822, -0.88334319, -1.74124007,  0.59995769],\n",
       "       [-1.26678342, -0.73466208,  2.14070144, -0.36965268]])"
      ]
     },
     "execution_count": 21,
     "metadata": {},
     "output_type": "execute_result"
    }
   ],
   "source": [
    "data[mask]"
   ]
  },
  {
   "cell_type": "code",
   "execution_count": 22,
   "metadata": {},
   "outputs": [
    {
     "data": {
      "text/plain": [
       "array([[0.79103092, 1.04432331, 0.        , 0.        ],\n",
       "       [0.83688121, 0.        , 1.33673953, 2.31021778],\n",
       "       [0.02825321, 0.        , 1.57232681, 0.        ],\n",
       "       [2.69095526, 0.        , 0.        , 0.19243166],\n",
       "       [0.49854293, 0.        , 0.        , 0.        ],\n",
       "       [0.        , 0.        , 0.        , 0.59995769],\n",
       "       [0.        , 0.        , 2.14070144, 0.        ]])"
      ]
     },
     "execution_count": 22,
     "metadata": {},
     "output_type": "execute_result"
    }
   ],
   "source": [
    "data[data < 0] = 0\n",
    "data"
   ]
  },
  {
   "cell_type": "code",
   "execution_count": 23,
   "metadata": {},
   "outputs": [
    {
     "data": {
      "text/plain": [
       "array([[2.        , 2.        , 2.        , 2.        ],\n",
       "       [2.        , 2.        , 2.        , 2.31021778],\n",
       "       [2.        , 2.        , 2.        , 2.        ],\n",
       "       [2.69095526, 2.        , 2.        , 2.        ],\n",
       "       [2.        , 2.        , 2.        , 2.        ],\n",
       "       [2.        , 2.        , 2.        , 2.        ],\n",
       "       [2.        , 2.        , 2.14070144, 2.        ]])"
      ]
     },
     "execution_count": 23,
     "metadata": {},
     "output_type": "execute_result"
    }
   ],
   "source": [
    "data[data < 2] = 2\n",
    "data"
   ]
  },
  {
   "cell_type": "code",
   "execution_count": 24,
   "metadata": {},
   "outputs": [
    {
     "data": {
      "text/plain": [
       "array([[7.        , 7.        , 7.        , 7.        ],\n",
       "       [2.        , 2.        , 2.        , 2.31021778],\n",
       "       [7.        , 7.        , 7.        , 7.        ],\n",
       "       [7.        , 7.        , 7.        , 7.        ],\n",
       "       [7.        , 7.        , 7.        , 7.        ],\n",
       "       [2.        , 2.        , 2.        , 2.        ],\n",
       "       [2.        , 2.        , 2.14070144, 2.        ]])"
      ]
     },
     "execution_count": 24,
     "metadata": {},
     "output_type": "execute_result"
    }
   ],
   "source": [
    "data[names != 'Joe'] = 7\n",
    "data"
   ]
  },
  {
   "cell_type": "code",
   "execution_count": 27,
   "metadata": {},
   "outputs": [
    {
     "data": {
      "text/plain": [
       "array([[6.23042070e-307, 4.67296746e-307, 1.69121096e-306,\n",
       "        1.95820080e-306],\n",
       "       [6.23060065e-307, 2.22526399e-307, 6.23053614e-307,\n",
       "        7.56592338e-307],\n",
       "       [1.60216183e-306, 7.56602523e-307, 3.56043054e-307,\n",
       "        1.37961641e-306],\n",
       "       [2.22518251e-306, 1.33511969e-306, 1.05694828e-307,\n",
       "        1.11258854e-306],\n",
       "       [1.11261502e-306, 1.42410839e-306, 7.56597770e-307,\n",
       "        6.23059726e-307],\n",
       "       [1.42419530e-306, 9.79101761e-307, 1.42417629e-306,\n",
       "        9.34603679e-307],\n",
       "       [1.78019761e-306, 1.78020848e-306, 7.56599807e-307,\n",
       "        1.42418172e-306],\n",
       "       [2.04712906e-306, 1.00132653e-307, 8.90111708e-307,\n",
       "        0.00000000e+000]])"
      ]
     },
     "execution_count": 27,
     "metadata": {},
     "output_type": "execute_result"
    }
   ],
   "source": [
    "arr = np.empty((8,4))\n",
    "arr"
   ]
  },
  {
   "cell_type": "code",
   "execution_count": 29,
   "metadata": {},
   "outputs": [
    {
     "data": {
      "text/plain": [
       "array([[0., 0., 0., 0.],\n",
       "       [1., 1., 1., 1.],\n",
       "       [2., 2., 2., 2.],\n",
       "       [3., 3., 3., 3.],\n",
       "       [4., 4., 4., 4.],\n",
       "       [5., 5., 5., 5.],\n",
       "       [6., 6., 6., 6.],\n",
       "       [7., 7., 7., 7.]])"
      ]
     },
     "execution_count": 29,
     "metadata": {},
     "output_type": "execute_result"
    }
   ],
   "source": [
    "for i in range(8):\n",
    "    arr[i] = i\n",
    "    \n",
    "    \n",
    "arr"
   ]
  },
  {
   "cell_type": "raw",
   "metadata": {},
   "source": []
  },
  {
   "cell_type": "code",
   "execution_count": 32,
   "metadata": {},
   "outputs": [
    {
     "data": {
      "text/plain": [
       "array([[ 0,  1,  2,  3],\n",
       "       [ 4,  5,  6,  7],\n",
       "       [ 8,  9, 10, 11],\n",
       "       [12, 13, 14, 15],\n",
       "       [16, 17, 18, 19],\n",
       "       [20, 21, 22, 23],\n",
       "       [24, 25, 26, 27],\n",
       "       [28, 29, 30, 31]])"
      ]
     },
     "execution_count": 32,
     "metadata": {},
     "output_type": "execute_result"
    }
   ],
   "source": [
    "arr = np.arange(32).reshape((8,4))\n",
    "arr"
   ]
  },
  {
   "cell_type": "code",
   "execution_count": 34,
   "metadata": {},
   "outputs": [
    {
     "data": {
      "text/plain": [
       "array([ 4, 11, 15, 10])"
      ]
     },
     "execution_count": 34,
     "metadata": {},
     "output_type": "execute_result"
    }
   ],
   "source": [
    "arr[[1,2,3,2],[0,3,3,2]]"
   ]
  },
  {
   "cell_type": "code",
   "execution_count": 37,
   "metadata": {},
   "outputs": [
    {
     "data": {
      "text/plain": [
       "array([[ 0,  1,  2],\n",
       "       [ 3,  4,  5],\n",
       "       [ 6,  7,  8],\n",
       "       [ 9, 10, 11],\n",
       "       [12, 13, 14]])"
      ]
     },
     "execution_count": 37,
     "metadata": {},
     "output_type": "execute_result"
    }
   ],
   "source": [
    "arr = np.arange(15).reshape((5,3))\n",
    "arr"
   ]
  },
  {
   "cell_type": "code",
   "execution_count": 38,
   "metadata": {},
   "outputs": [
    {
     "data": {
      "text/plain": [
       "array([[ 0,  3,  6,  9, 12],\n",
       "       [ 1,  4,  7, 10, 13],\n",
       "       [ 2,  5,  8, 11, 14]])"
      ]
     },
     "execution_count": 38,
     "metadata": {},
     "output_type": "execute_result"
    }
   ],
   "source": [
    "arr.T"
   ]
  },
  {
   "cell_type": "raw",
   "metadata": {},
   "source": []
  },
  {
   "cell_type": "code",
   "execution_count": 39,
   "metadata": {},
   "outputs": [
    {
     "data": {
      "text/plain": [
       "array([[-1.8440981 ,  0.14763574, -1.81447009],\n",
       "       [-0.15924642,  1.46206939,  1.26470978],\n",
       "       [ 0.45141271, -0.79426617, -1.45124918],\n",
       "       [ 0.77022992,  0.44618465,  1.60096785],\n",
       "       [-0.87433139, -1.79820599, -2.73938792],\n",
       "       [ 1.51001661,  0.97842256, -1.19231287]])"
      ]
     },
     "execution_count": 39,
     "metadata": {},
     "output_type": "execute_result"
    }
   ],
   "source": [
    "arr = np.random.randn(6,3)\n",
    "arr"
   ]
  },
  {
   "cell_type": "code",
   "execution_count": 40,
   "metadata": {},
   "outputs": [
    {
     "data": {
      "text/plain": [
       "array([[ 7.26769035,  2.52970109,  4.31738197],\n",
       "       [ 2.52970109,  7.18023822,  7.2076162 ],\n",
       "       [ 4.31738197,  7.2076162 , 18.48687097]])"
      ]
     },
     "execution_count": 40,
     "metadata": {},
     "output_type": "execute_result"
    }
   ],
   "source": [
    "np.dot(arr.T, arr)"
   ]
  },
  {
   "cell_type": "code",
   "execution_count": 41,
   "metadata": {},
   "outputs": [
    {
     "data": {
      "text/plain": [
       "array([[ 6.71479584, -1.78525835,  1.68353684, -4.25941502,  6.31741085,\n",
       "        -0.47675259],\n",
       "       [-1.78525835,  3.76249715, -3.06856715,  2.55445625, -5.95439849,\n",
       "        -0.31787279],\n",
       "       [ 1.68353684, -3.06856715,  2.94075638, -2.33010109,  5.00910437,\n",
       "         1.63485583],\n",
       "       [-4.25941502,  2.55445625, -2.33010109,  3.35543293, -5.8614401 ,\n",
       "        -0.30923748],\n",
       "       [ 6.31741085, -5.95439849,  5.00910437, -5.8614401 , 11.50224637,\n",
       "         0.18654723],\n",
       "       [-0.47675259, -0.31787279,  1.63485583, -0.30923748,  0.18654723,\n",
       "         4.65907086]])"
      ]
     },
     "execution_count": 41,
     "metadata": {},
     "output_type": "execute_result"
    }
   ],
   "source": [
    "np.dot(arr, arr.T)"
   ]
  },
  {
   "cell_type": "code",
   "execution_count": 50,
   "metadata": {},
   "outputs": [
    {
     "data": {
      "text/plain": [
       "array([[ 6.71479584, -1.78525835,  1.68353684, -4.25941502,  6.31741085,\n",
       "        -0.47675259],\n",
       "       [-1.78525835,  3.76249715, -3.06856715,  2.55445625, -5.95439849,\n",
       "        -0.31787279],\n",
       "       [ 1.68353684, -3.06856715,  2.94075638, -2.33010109,  5.00910437,\n",
       "         1.63485583],\n",
       "       [-4.25941502,  2.55445625, -2.33010109,  3.35543293, -5.8614401 ,\n",
       "        -0.30923748],\n",
       "       [ 0.        ,  0.        ,  0.        ,  0.        ,  0.        ,\n",
       "         0.        ],\n",
       "       [-0.47675259, -0.31787279,  1.63485583, -0.30923748,  0.18654723,\n",
       "         4.65907086]])"
      ]
     },
     "execution_count": 50,
     "metadata": {},
     "output_type": "execute_result"
    }
   ],
   "source": [
    "A = np.dot(arr, arr.T)\n",
    "A[4] = [0]\n",
    "A"
   ]
  },
  {
   "cell_type": "code",
   "execution_count": 61,
   "metadata": {},
   "outputs": [],
   "source": [
    "points = np.arange(-5, 5, 0.01)\n",
    "xs, ys = np.meshgrid(points, points)\n"
   ]
  },
  {
   "cell_type": "code",
   "execution_count": 65,
   "metadata": {},
   "outputs": [
    {
     "data": {
      "text/plain": [
       "array([[7.07106781, 7.06400028, 7.05693985, ..., 7.04988652, 7.05693985,\n",
       "        7.06400028],\n",
       "       [7.06400028, 7.05692568, 7.04985815, ..., 7.04279774, 7.04985815,\n",
       "        7.05692568],\n",
       "       [7.05693985, 7.04985815, 7.04278354, ..., 7.03571603, 7.04278354,\n",
       "        7.04985815],\n",
       "       ...,\n",
       "       [7.04988652, 7.04279774, 7.03571603, ..., 7.0286414 , 7.03571603,\n",
       "        7.04279774],\n",
       "       [7.05693985, 7.04985815, 7.04278354, ..., 7.03571603, 7.04278354,\n",
       "        7.04985815],\n",
       "       [7.06400028, 7.05692568, 7.04985815, ..., 7.04279774, 7.04985815,\n",
       "        7.05692568]])"
      ]
     },
     "execution_count": 65,
     "metadata": {},
     "output_type": "execute_result"
    }
   ],
   "source": [
    "import matplotlib\n",
    "import matplotlib.pyplot as plt\n",
    "z = np.sqrt(xs ** 2 + ys ** 2)\n",
    "z"
   ]
  },
  {
   "cell_type": "code",
   "execution_count": 66,
   "metadata": {},
   "outputs": [
    {
     "data": {
      "text/plain": [
       "<matplotlib.colorbar.Colorbar at 0x162c4670>"
      ]
     },
     "execution_count": 66,
     "metadata": {},
     "output_type": "execute_result"
    },
    {
     "data": {
      "image/png": "[encoded data removed]",
      "text/plain": [
       "<Figure size 432x288 with 2 Axes>"
      ]
     },
     "metadata": {
      "needs_background": "light"
     },
     "output_type": "display_data"
    }
   ],
   "source": [
    "plt.imshow(z, cmap=plt.cm.gray); plt.colorbar()"
   ]
  }
 ],
 "metadata": {
  "kernelspec": {
   "display_name": "Python 3",
   "language": "python",
   "name": "python3"
  },
  "language_info": {
   "codemirror_mode": {
    "name": "ipython",
    "version": 3
   },
   "file_extension": ".py",
   "mimetype": "text/x-python",
   "name": "python",
   "nbconvert_exporter": "python",
   "pygments_lexer": "ipython3",
   "version": "3.8.1"
  }
 },
 "nbformat": 4,
 "nbformat_minor": 4
}
